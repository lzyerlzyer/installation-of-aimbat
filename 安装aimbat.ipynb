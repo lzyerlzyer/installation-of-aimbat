{
 "cells": [
  {
   "cell_type": "markdown",
   "metadata": {},
   "source": [
    "安装aimbat的步骤：\n",
    "\n",
    "环境：\n",
    "- OS:Ubuntu 20.04\n",
    "- Python:2.7.18\n",
    "- matplotlib:2.2.3\n",
    "- numpy:1.16.6\n",
    "- scipy:1.2.1\n",
    "\n",
    "STEP1：首先在<https://www.earth.northwestern.edu/~xlou/aimbat.html>上下载pysmo-sac-0.5.tar.gz和pysmo-aimbat-0.1.2.tar.gz\n",
    "\n",
    "STEP2：把两个压缩包解压并保存到~/prog/software/下面\n",
    "\n",
    "STEP3：创建python环境"
   ]
  },
  {
   "cell_type": "raw",
   "metadata": {},
   "source": [
    "conda create --name aimbat python==2.7.18"
   ]
  },
  {
   "cell_type": "markdown",
   "metadata": {},
   "source": [
    "STEP4：安装依赖包"
   ]
  },
  {
   "cell_type": "raw",
   "metadata": {},
   "source": [
    "conda install matplotlib==2.2.3\n",
    "conda install numpy==1.16.6\n",
    "conda install scipy==1.2.1"
   ]
  },
  {
   "cell_type": "markdown",
   "metadata": {},
   "source": [
    "STEP5：安装pysmo以及aimbat"
   ]
  },
  {
   "cell_type": "raw",
   "metadata": {},
   "source": [
    "cd ~/prog/software/pysmo-sac-0.5\n",
    "python setup.py build\n",
    "python setup.py install\n",
    "cd ~/prog/software/pysmo-aimbat-0.1.2\n",
    "python setup.py build --fcompiler=gfortran\n",
    "python setup.py install"
   ]
  },
  {
   "cell_type": "markdown",
   "metadata": {},
   "source": [
    "STEP6：配置aimbat的环境变量"
   ]
  },
  {
   "cell_type": "raw",
   "metadata": {},
   "source": [
    "vim ~/.bashrc"
   ]
  },
  {
   "cell_type": "markdown",
   "metadata": {},
   "source": [
    "在最后一行加上"
   ]
  },
  {
   "cell_type": "raw",
   "metadata": {},
   "source": [
    "export PATH=$PATH:/home/ustc/progs/software/pysmo-aimbat-0.1.2/scripts"
   ]
  },
  {
   "cell_type": "markdown",
   "metadata": {},
   "source": [
    "输入esc+:wq退出vim编辑器并保存"
   ]
  },
  {
   "cell_type": "raw",
   "metadata": {},
   "source": [
    "source ~/.bashrc"
   ]
  },
  {
   "cell_type": "markdown",
   "metadata": {},
   "source": [
    "安装完成，cd进自带的例子里面，测试看看aimbat是不是安装成功了"
   ]
  },
  {
   "cell_type": "raw",
   "metadata": {},
   "source": [
    "cd ~/progs/software/pysmo-aimbat-0.1.2/example/Event_2011.09.15.19.31.04.080"
   ]
  },
  {
   "cell_type": "markdown",
   "metadata": {},
   "source": [
    "画波形"
   ]
  },
  {
   "cell_type": "raw",
   "metadata": {},
   "source": [
    "../../scripts/sacp1.py AZ*"
   ]
  },
  {
   "cell_type": "markdown",
   "metadata": {},
   "source": [
    "拾取波形"
   ]
  },
  {
   "cell_type": "raw",
   "metadata": {},
   "source": [
    "../../scripts/sacppk.py AZ*"
   ]
  },
  {
   "cell_type": "markdown",
   "metadata": {},
   "source": [
    "根据互相关系数筛波形"
   ]
  },
  {
   "cell_type": "raw",
   "metadata": {},
   "source": [
    "../../scripts/ttpick.py AZ*"
   ]
  },
  {
   "cell_type": "markdown",
   "metadata": {},
   "source": [
    "如果三个脚本都能跑通，说明安装没问题，可以使用aimbat\n",
    "\n",
    "**注意：**\n",
    "在尝试安装aimbat的最新版本时，一直报错，所以这里装的是比较原始的版本，不过目前的工作也只需要用到它最基本的功能，暂时先这样"
   ]
  }
 ],
 "metadata": {
  "language_info": {
   "name": "python"
  }
 },
 "nbformat": 4,
 "nbformat_minor": 2
}
